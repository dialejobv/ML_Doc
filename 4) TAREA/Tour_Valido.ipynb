{
  "nbformat": 4,
  "nbformat_minor": 0,
  "metadata": {
    "colab": {
      "provenance": []
    },
    "kernelspec": {
      "name": "python3",
      "display_name": "Python 3"
    },
    "language_info": {
      "name": "python"
    }
  },
  "cells": [
    {
      "cell_type": "code",
      "source": [
        "import numpy as np\n",
        "from scipy.optimize import linear_sum_assignment\n",
        "\n",
        "cities = ['A', 'B', 'C', 'D', 'E']\n",
        "n = len(cities)\n",
        "city_index = {c: i for i, c in enumerate(cities)}\n",
        "\n",
        "# Matriz de distancias\n",
        "dist = np.full((n, n), np.inf)\n",
        "np.fill_diagonal(dist, 0)\n",
        "\n",
        "edges = [\n",
        "    ('A', 'B', 5), ('A', 'C', 5), ('A', 'D', 6), ('A', 'E', 4),\n",
        "    ('B', 'C', 3), ('B', 'D', 7), ('B', 'E', 6),\n",
        "    ('C', 'D', 4), ('C', 'E', 8),\n",
        "    ('D', 'E', 5)\n",
        "]\n",
        "\n",
        "for u, v, w in edges:\n",
        "    i, j = city_index[u], city_index[v]\n",
        "    dist[i][j] = w\n",
        "    dist[j][i] = w\n",
        "\n",
        "# Parámetros ajustados\n",
        "PRF = 2000\n",
        "PRC = 2000\n",
        "PD = 50\n",
        "dt = 0.01\n",
        "max_iter = 10000\n",
        "\n",
        "# Inicialización con ruido controlado\n",
        "V = np.random.rand(n, n) * 0.1 + 0.1\n",
        "\n",
        "# Simulación\n",
        "for _ in range(max_iter):\n",
        "    for i in range(n):\n",
        "        for j in range(n):\n",
        "            sum_row = np.sum(V[i, :]) - V[i, j]\n",
        "            sum_col = np.sum(V[:, j]) - V[i, j]\n",
        "\n",
        "            next_j = (j + 1) % n\n",
        "            prev_j = (j - 1) % n\n",
        "            sum_dist = 0\n",
        "            for k in range(n):\n",
        "                sum_dist += dist[i, k] * (V[k, next_j] + V[k, prev_j])\n",
        "\n",
        "            U_ij = -PRF * sum_row - PRC * sum_col - PD * sum_dist\n",
        "            V[i, j] += dt * U_ij\n",
        "            V[i, j] = 1 / (1 + np.exp(-V[i, j]))  # Sigmoide\n",
        "\n",
        "# Binarización estricta\n",
        "V = (V > 0.8).astype(float)\n",
        "\n",
        "# Extraer ruta con algoritmo húngaro\n",
        "row_ind, col_ind = linear_sum_assignment(-V)\n",
        "tour = [cities[i] for i in row_ind]\n",
        "\n",
        "# Verificar validez\n",
        "if len(set(tour)) == n:\n",
        "    print(\"Tour válido:\", tour)\n",
        "else:\n",
        "    print(\"Ajustar PRF/PRC o iteraciones.\")"
      ],
      "metadata": {
        "colab": {
          "base_uri": "https://localhost:8080/"
        },
        "id": "FLDOvJ33Rs51",
        "outputId": "c0c3f8ad-d60e-4a03-dbb4-672b202e5f0c"
      },
      "execution_count": 4,
      "outputs": [
        {
          "output_type": "stream",
          "name": "stdout",
          "text": [
            "Tour válido: ['A', 'B', 'C', 'D', 'E']\n"
          ]
        }
      ]
    }
  ]
}