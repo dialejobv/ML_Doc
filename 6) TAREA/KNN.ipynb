{
  "nbformat": 4,
  "nbformat_minor": 0,
  "metadata": {
    "colab": {
      "provenance": []
    },
    "kernelspec": {
      "name": "python3",
      "display_name": "Python 3"
    },
    "language_info": {
      "name": "python"
    }
  },
  "cells": [
    {
      "cell_type": "markdown",
      "source": [
        "# **TAREA NÚMERO 6-EJERCICIO KNN- PROBLEMA \"Students Grading Analysis\"**"
      ],
      "metadata": {
        "id": "pkKMVDDzuhMJ"
      }
    },
    {
      "cell_type": "code",
      "source": [
        "#Empiezo a visualizar primero los datos de la base de datos de Kaggle\n",
        "from google.colab import drive\n",
        "import polars as pl\n",
        "\n",
        "# Montar Google Drive (si el archivo está ahí)\n",
        "drive.mount('/content/drive')\n",
        "\n",
        "# Cargar el CSV\n",
        "df = pl.read_csv('Students_Grading_Dataset_Biased.csv')"
      ],
      "metadata": {
        "colab": {
          "base_uri": "https://localhost:8080/"
        },
        "id": "UdTHHzBpugry",
        "outputId": "71fa1658-6ced-47ed-fb75-5e42c126c186"
      },
      "execution_count": 2,
      "outputs": [
        {
          "output_type": "stream",
          "name": "stdout",
          "text": [
            "Mounted at /content/drive\n"
          ]
        }
      ]
    },
    {
      "cell_type": "code",
      "source": [
        "df.head()"
      ],
      "metadata": {
        "colab": {
          "base_uri": "https://localhost:8080/",
          "height": 292
        },
        "id": "0-zBV4yXGK5o",
        "outputId": "449ad0cd-39c2-410c-8ec1-205b5f110098"
      },
      "execution_count": 3,
      "outputs": [
        {
          "output_type": "execute_result",
          "data": {
            "text/plain": [
              "shape: (5, 23)\n",
              "┌───────────┬───────────┬───────────┬───────────┬───┬───────────┬───────────┬───────────┬──────────┐\n",
              "│ Student_I ┆ First_Nam ┆ Last_Name ┆ Email     ┆ … ┆ Parent_Ed ┆ Family_In ┆ Stress_Le ┆ Sleep_Ho │\n",
              "│ D         ┆ e         ┆ ---       ┆ ---       ┆   ┆ ucation_L ┆ come_Leve ┆ vel       ┆ urs_per_ │\n",
              "│ ---       ┆ ---       ┆ str       ┆ str       ┆   ┆ evel      ┆ l         ┆ (1-10)    ┆ Night    │\n",
              "│ str       ┆ str       ┆           ┆           ┆   ┆ ---       ┆ ---       ┆ ---       ┆ ---      │\n",
              "│           ┆           ┆           ┆           ┆   ┆ str       ┆ str       ┆ i64       ┆ f64      │\n",
              "╞═══════════╪═══════════╪═══════════╪═══════════╪═══╪═══════════╪═══════════╪═══════════╪══════════╡\n",
              "│ S1000     ┆ Omar      ┆ Williams  ┆ student0@ ┆ … ┆ High      ┆ Medium    ┆ 5         ┆ 4.7      │\n",
              "│           ┆           ┆           ┆ universit ┆   ┆ School    ┆           ┆           ┆          │\n",
              "│           ┆           ┆           ┆ y.com     ┆   ┆           ┆           ┆           ┆          │\n",
              "│ S1001     ┆ Maria     ┆ Brown     ┆ student1@ ┆ … ┆ None      ┆ Medium    ┆ 4         ┆ 9.0      │\n",
              "│           ┆           ┆           ┆ universit ┆   ┆           ┆           ┆           ┆          │\n",
              "│           ┆           ┆           ┆ y.com     ┆   ┆           ┆           ┆           ┆          │\n",
              "│ S1002     ┆ Ahmed     ┆ Jones     ┆ student2@ ┆ … ┆ Master's  ┆ Low       ┆ 6         ┆ 6.2      │\n",
              "│           ┆           ┆           ┆ universit ┆   ┆           ┆           ┆           ┆          │\n",
              "│           ┆           ┆           ┆ y.com     ┆   ┆           ┆           ┆           ┆          │\n",
              "│ S1003     ┆ Omar      ┆ Williams  ┆ student3@ ┆ … ┆ High      ┆ High      ┆ 3         ┆ 6.7      │\n",
              "│           ┆           ┆           ┆ universit ┆   ┆ School    ┆           ┆           ┆          │\n",
              "│           ┆           ┆           ┆ y.com     ┆   ┆           ┆           ┆           ┆          │\n",
              "│ S1004     ┆ John      ┆ Smith     ┆ student4@ ┆ … ┆ High      ┆ High      ┆ 2         ┆ 7.1      │\n",
              "│           ┆           ┆           ┆ universit ┆   ┆ School    ┆           ┆           ┆          │\n",
              "│           ┆           ┆           ┆ y.com     ┆   ┆           ┆           ┆           ┆          │\n",
              "└───────────┴───────────┴───────────┴───────────┴───┴───────────┴───────────┴───────────┴──────────┘"
            ],
            "text/html": [
              "<div><style>\n",
              ".dataframe > thead > tr,\n",
              ".dataframe > tbody > tr {\n",
              "  text-align: right;\n",
              "  white-space: pre-wrap;\n",
              "}\n",
              "</style>\n",
              "<small>shape: (5, 23)</small><table border=\"1\" class=\"dataframe\"><thead><tr><th>Student_ID</th><th>First_Name</th><th>Last_Name</th><th>Email</th><th>Gender</th><th>Age</th><th>Department</th><th>Attendance (%)</th><th>Midterm_Score</th><th>Final_Score</th><th>Assignments_Avg</th><th>Quizzes_Avg</th><th>Participation_Score</th><th>Projects_Score</th><th>Total_Score</th><th>Grade</th><th>Study_Hours_per_Week</th><th>Extracurricular_Activities</th><th>Internet_Access_at_Home</th><th>Parent_Education_Level</th><th>Family_Income_Level</th><th>Stress_Level (1-10)</th><th>Sleep_Hours_per_Night</th></tr><tr><td>str</td><td>str</td><td>str</td><td>str</td><td>str</td><td>i64</td><td>str</td><td>f64</td><td>f64</td><td>f64</td><td>f64</td><td>f64</td><td>f64</td><td>f64</td><td>f64</td><td>str</td><td>f64</td><td>str</td><td>str</td><td>str</td><td>str</td><td>i64</td><td>f64</td></tr></thead><tbody><tr><td>&quot;S1000&quot;</td><td>&quot;Omar&quot;</td><td>&quot;Williams&quot;</td><td>&quot;student0@university.com&quot;</td><td>&quot;Female&quot;</td><td>22</td><td>&quot;Engineering&quot;</td><td>52.29</td><td>55.03</td><td>57.82</td><td>84.22</td><td>74.06</td><td>3.99</td><td>85.9</td><td>56.09</td><td>&quot;F&quot;</td><td>6.2</td><td>&quot;No&quot;</td><td>&quot;Yes&quot;</td><td>&quot;High School&quot;</td><td>&quot;Medium&quot;</td><td>5</td><td>4.7</td></tr><tr><td>&quot;S1001&quot;</td><td>&quot;Maria&quot;</td><td>&quot;Brown&quot;</td><td>&quot;student1@university.com&quot;</td><td>&quot;Male&quot;</td><td>18</td><td>&quot;Engineering&quot;</td><td>97.27</td><td>97.23</td><td>45.8</td><td>null</td><td>94.24</td><td>8.32</td><td>55.65</td><td>50.64</td><td>&quot;A&quot;</td><td>19.0</td><td>&quot;No&quot;</td><td>&quot;Yes&quot;</td><td>&quot;None&quot;</td><td>&quot;Medium&quot;</td><td>4</td><td>9.0</td></tr><tr><td>&quot;S1002&quot;</td><td>&quot;Ahmed&quot;</td><td>&quot;Jones&quot;</td><td>&quot;student2@university.com&quot;</td><td>&quot;Male&quot;</td><td>24</td><td>&quot;Business&quot;</td><td>57.19</td><td>67.05</td><td>93.68</td><td>67.7</td><td>85.7</td><td>5.05</td><td>73.79</td><td>70.3</td><td>&quot;D&quot;</td><td>20.7</td><td>&quot;No&quot;</td><td>&quot;Yes&quot;</td><td>&quot;Master&#x27;s&quot;</td><td>&quot;Low&quot;</td><td>6</td><td>6.2</td></tr><tr><td>&quot;S1003&quot;</td><td>&quot;Omar&quot;</td><td>&quot;Williams&quot;</td><td>&quot;student3@university.com&quot;</td><td>&quot;Female&quot;</td><td>24</td><td>&quot;Mathematics&quot;</td><td>95.15</td><td>47.79</td><td>80.63</td><td>66.06</td><td>93.51</td><td>6.54</td><td>92.12</td><td>61.63</td><td>&quot;A&quot;</td><td>24.8</td><td>&quot;Yes&quot;</td><td>&quot;Yes&quot;</td><td>&quot;High School&quot;</td><td>&quot;High&quot;</td><td>3</td><td>6.7</td></tr><tr><td>&quot;S1004&quot;</td><td>&quot;John&quot;</td><td>&quot;Smith&quot;</td><td>&quot;student4@university.com&quot;</td><td>&quot;Female&quot;</td><td>23</td><td>&quot;CS&quot;</td><td>54.18</td><td>46.59</td><td>78.89</td><td>96.85</td><td>83.7</td><td>5.97</td><td>68.42</td><td>66.13</td><td>&quot;F&quot;</td><td>15.4</td><td>&quot;Yes&quot;</td><td>&quot;Yes&quot;</td><td>&quot;High School&quot;</td><td>&quot;High&quot;</td><td>2</td><td>7.1</td></tr></tbody></table></div>"
            ]
          },
          "metadata": {},
          "execution_count": 3
        }
      ]
    },
    {
      "cell_type": "code",
      "source": [
        "df.schema"
      ],
      "metadata": {
        "colab": {
          "base_uri": "https://localhost:8080/"
        },
        "id": "mAmTB6GoAf9K",
        "outputId": "92255791-e5da-4ab7-c226-f9ab1a9caec9"
      },
      "execution_count": 4,
      "outputs": [
        {
          "output_type": "execute_result",
          "data": {
            "text/plain": [
              "Schema([('Student_ID', String),\n",
              "        ('First_Name', String),\n",
              "        ('Last_Name', String),\n",
              "        ('Email', String),\n",
              "        ('Gender', String),\n",
              "        ('Age', Int64),\n",
              "        ('Department', String),\n",
              "        ('Attendance (%)', Float64),\n",
              "        ('Midterm_Score', Float64),\n",
              "        ('Final_Score', Float64),\n",
              "        ('Assignments_Avg', Float64),\n",
              "        ('Quizzes_Avg', Float64),\n",
              "        ('Participation_Score', Float64),\n",
              "        ('Projects_Score', Float64),\n",
              "        ('Total_Score', Float64),\n",
              "        ('Grade', String),\n",
              "        ('Study_Hours_per_Week', Float64),\n",
              "        ('Extracurricular_Activities', String),\n",
              "        ('Internet_Access_at_Home', String),\n",
              "        ('Parent_Education_Level', String),\n",
              "        ('Family_Income_Level', String),\n",
              "        ('Stress_Level (1-10)', Int64),\n",
              "        ('Sleep_Hours_per_Night', Float64)])"
            ]
          },
          "metadata": {},
          "execution_count": 4
        }
      ]
    },
    {
      "cell_type": "code",
      "source": [
        "#En este caso tendré en mente la visualización de los expuestos en clase teniendo:\n",
        "df2 = df.select(['Grade', 'Stress_Level (1-10)', 'Internet_Access_at_Home', 'Study_Hours_per_Week', 'Family_Income_Level'])\n",
        "df2"
      ],
      "metadata": {
        "colab": {
          "base_uri": "https://localhost:8080/",
          "height": 443
        },
        "id": "0fR_3VCjHMJB",
        "outputId": "36d6a9f6-e350-4e66-d621-ff9ffc5c846b"
      },
      "execution_count": 5,
      "outputs": [
        {
          "output_type": "execute_result",
          "data": {
            "text/plain": [
              "shape: (5_000, 5)\n",
              "┌───────┬─────────────────────┬───────────────────────┬──────────────────────┬─────────────────────┐\n",
              "│ Grade ┆ Stress_Level (1-10) ┆ Internet_Access_at_Ho ┆ Study_Hours_per_Week ┆ Family_Income_Level │\n",
              "│ ---   ┆ ---                 ┆ me                    ┆ ---                  ┆ ---                 │\n",
              "│ str   ┆ i64                 ┆ ---                   ┆ f64                  ┆ str                 │\n",
              "│       ┆                     ┆ str                   ┆                      ┆                     │\n",
              "╞═══════╪═════════════════════╪═══════════════════════╪══════════════════════╪═════════════════════╡\n",
              "│ F     ┆ 5                   ┆ Yes                   ┆ 6.2                  ┆ Medium              │\n",
              "│ A     ┆ 4                   ┆ Yes                   ┆ 19.0                 ┆ Medium              │\n",
              "│ D     ┆ 6                   ┆ Yes                   ┆ 20.7                 ┆ Low                 │\n",
              "│ A     ┆ 3                   ┆ Yes                   ┆ 24.8                 ┆ High                │\n",
              "│ F     ┆ 2                   ┆ Yes                   ┆ 15.4                 ┆ High                │\n",
              "│ …     ┆ …                   ┆ …                     ┆ …                    ┆ …                   │\n",
              "│ D     ┆ 10                  ┆ Yes                   ┆ 25.5                 ┆ Low                 │\n",
              "│ C     ┆ 4                   ┆ Yes                   ┆ 5.0                  ┆ Medium              │\n",
              "│ A     ┆ 4                   ┆ No                    ┆ 24.8                 ┆ Medium              │\n",
              "│ A     ┆ 1                   ┆ Yes                   ┆ 16.1                 ┆ Low                 │\n",
              "│ F     ┆ 2                   ┆ Yes                   ┆ 29.2                 ┆ Low                 │\n",
              "└───────┴─────────────────────┴───────────────────────┴──────────────────────┴─────────────────────┘"
            ],
            "text/html": [
              "<div><style>\n",
              ".dataframe > thead > tr,\n",
              ".dataframe > tbody > tr {\n",
              "  text-align: right;\n",
              "  white-space: pre-wrap;\n",
              "}\n",
              "</style>\n",
              "<small>shape: (5_000, 5)</small><table border=\"1\" class=\"dataframe\"><thead><tr><th>Grade</th><th>Stress_Level (1-10)</th><th>Internet_Access_at_Home</th><th>Study_Hours_per_Week</th><th>Family_Income_Level</th></tr><tr><td>str</td><td>i64</td><td>str</td><td>f64</td><td>str</td></tr></thead><tbody><tr><td>&quot;F&quot;</td><td>5</td><td>&quot;Yes&quot;</td><td>6.2</td><td>&quot;Medium&quot;</td></tr><tr><td>&quot;A&quot;</td><td>4</td><td>&quot;Yes&quot;</td><td>19.0</td><td>&quot;Medium&quot;</td></tr><tr><td>&quot;D&quot;</td><td>6</td><td>&quot;Yes&quot;</td><td>20.7</td><td>&quot;Low&quot;</td></tr><tr><td>&quot;A&quot;</td><td>3</td><td>&quot;Yes&quot;</td><td>24.8</td><td>&quot;High&quot;</td></tr><tr><td>&quot;F&quot;</td><td>2</td><td>&quot;Yes&quot;</td><td>15.4</td><td>&quot;High&quot;</td></tr><tr><td>&hellip;</td><td>&hellip;</td><td>&hellip;</td><td>&hellip;</td><td>&hellip;</td></tr><tr><td>&quot;D&quot;</td><td>10</td><td>&quot;Yes&quot;</td><td>25.5</td><td>&quot;Low&quot;</td></tr><tr><td>&quot;C&quot;</td><td>4</td><td>&quot;Yes&quot;</td><td>5.0</td><td>&quot;Medium&quot;</td></tr><tr><td>&quot;A&quot;</td><td>4</td><td>&quot;No&quot;</td><td>24.8</td><td>&quot;Medium&quot;</td></tr><tr><td>&quot;A&quot;</td><td>1</td><td>&quot;Yes&quot;</td><td>16.1</td><td>&quot;Low&quot;</td></tr><tr><td>&quot;F&quot;</td><td>2</td><td>&quot;Yes&quot;</td><td>29.2</td><td>&quot;Low&quot;</td></tr></tbody></table></div>"
            ]
          },
          "metadata": {},
          "execution_count": 5
        }
      ]
    },
    {
      "cell_type": "code",
      "source": [
        "'''Visualizando la columna \"Family_Income_Level\" observo que existen varias etiquetas de \"Medium\" por lo que\n",
        "procederé por medio un conteo a obsrevar cuál es la frecuencia de e ste componente.'''\n",
        "\n",
        "# 1. Calcula la frecuencia absoluta (conteo de cada valor)\n",
        "frecuencia_absoluta = df2['Family_Income_Level'].value_counts()\n",
        "\n",
        "print(frecuencia_absoluta)\n"
      ],
      "metadata": {
        "colab": {
          "base_uri": "https://localhost:8080/"
        },
        "id": "3HtjtwfmHqQZ",
        "outputId": "4ed9667a-684c-4fdd-c2de-1d185c2e13f7"
      },
      "execution_count": 6,
      "outputs": [
        {
          "output_type": "stream",
          "name": "stdout",
          "text": [
            "shape: (3, 2)\n",
            "┌─────────────────────┬───────┐\n",
            "│ Family_Income_Level ┆ count │\n",
            "│ ---                 ┆ ---   │\n",
            "│ str                 ┆ u32   │\n",
            "╞═════════════════════╪═══════╡\n",
            "│ Low                 ┆ 1983  │\n",
            "│ Medium              ┆ 1973  │\n",
            "│ High                ┆ 1044  │\n",
            "└─────────────────────┴───────┘\n"
          ]
        }
      ]
    },
    {
      "cell_type": "markdown",
      "source": [
        "Se visualiza que se repite más el componente **Low** con un conteo de **1983** en la variable del nivel de ingreso familiar, seguido posteriormente por el componente **medium** con un conteo de **1973** y posteriormente un componente **High** con un conteo de **1044**, teniendo presente la siguiente gráfica:"
      ],
      "metadata": {
        "id": "QOY6BdC1Iaw2"
      }
    },
    {
      "cell_type": "code",
      "source": [
        "import matplotlib.pyplot as plt\n",
        "\n",
        "# Datos\n",
        "x = [\"Low\", \"Medium\", \"High\"]\n",
        "y = [1983, 1973, 1044]\n",
        "\n",
        "bar_labels = ['Low', 'Medium', 'High']\n",
        "bar_colors = ['tab:blue', 'tab:green', 'tab:red']\n",
        "\n",
        "# Gráfico de barras\n",
        "fig, ax = plt.subplots()\n",
        "ax.bar(x = x, height = y, label=bar_labels, color=bar_colors)\n",
        "\n",
        "# Etiquetas de la gráfica\n",
        "ax.set_ylabel('Frecuencia de Conteo')\n",
        "ax.set_title('Frecuencia Variable Family_Income_Level')\n",
        "ax.legend(title='Conteo Ingreso Familiar')\n",
        "\n",
        "plt.show()"
      ],
      "metadata": {
        "colab": {
          "base_uri": "https://localhost:8080/",
          "height": 452
        },
        "id": "dd4GL140Jito",
        "outputId": "9f739eae-fa3d-4b82-e1c3-a81f803e172d"
      },
      "execution_count": 7,
      "outputs": [
        {
          "output_type": "display_data",
          "data": {
            "text/plain": [
              "<Figure size 640x480 with 1 Axes>"
            ],
            "image/png": "[encoded data removed]"
          },
          "metadata": {}
        }
      ]
    },
    {
      "cell_type": "markdown",
      "source": [
        "Ahora voy a proceder a analizar el componente de los niveles de los recursos familiares generando el desglosge visto en clase, teniendo:"
      ],
      "metadata": {
        "id": "Ja6pGDUTRNwm"
      }
    },
    {
      "cell_type": "code",
      "source": [
        "\n",
        "# Define income levels in orden\n",
        "income_levels = [\"Low\", \"Medium\", \"High\"]\n",
        "\n",
        "# Crea un acumulativo de one-hot encoding\n",
        "df3 = df2.with_columns([\n",
        "    (df2[\"Family_Income_Level\"].is_in(income_levels[i:])).cast(pl.Int8).alias(f\"Income_{level}\")\n",
        "    for i, level in enumerate(income_levels)\n",
        "])\n",
        "\n",
        "# Drop the original categorical column\n",
        "#df3 = df3.drop(\"Family_Income_Level\")\n",
        "\n",
        "print(df3.head())\n",
        "df3.schema"
      ],
      "metadata": {
        "colab": {
          "base_uri": "https://localhost:8080/"
        },
        "id": "vSDaMSPWQCAI",
        "outputId": "04a10b52-921e-47b8-ff34-f730d7fd10ce"
      },
      "execution_count": 8,
      "outputs": [
        {
          "output_type": "stream",
          "name": "stdout",
          "text": [
            "shape: (5, 8)\n",
            "┌───────┬────────────┬────────────┬────────────┬────────────┬────────────┬────────────┬────────────┐\n",
            "│ Grade ┆ Stress_Lev ┆ Internet_A ┆ Study_Hour ┆ Family_Inc ┆ Income_Low ┆ Income_Med ┆ Income_Hig │\n",
            "│ ---   ┆ el (1-10)  ┆ ccess_at_H ┆ s_per_Week ┆ ome_Level  ┆ ---        ┆ ium        ┆ h          │\n",
            "│ str   ┆ ---        ┆ ome        ┆ ---        ┆ ---        ┆ i8         ┆ ---        ┆ ---        │\n",
            "│       ┆ i64        ┆ ---        ┆ f64        ┆ str        ┆            ┆ i8         ┆ i8         │\n",
            "│       ┆            ┆ str        ┆            ┆            ┆            ┆            ┆            │\n",
            "╞═══════╪════════════╪════════════╪════════════╪════════════╪════════════╪════════════╪════════════╡\n",
            "│ F     ┆ 5          ┆ Yes        ┆ 6.2        ┆ Medium     ┆ 1          ┆ 1          ┆ 0          │\n",
            "│ A     ┆ 4          ┆ Yes        ┆ 19.0       ┆ Medium     ┆ 1          ┆ 1          ┆ 0          │\n",
            "│ D     ┆ 6          ┆ Yes        ┆ 20.7       ┆ Low        ┆ 1          ┆ 0          ┆ 0          │\n",
            "│ A     ┆ 3          ┆ Yes        ┆ 24.8       ┆ High       ┆ 1          ┆ 1          ┆ 1          │\n",
            "│ F     ┆ 2          ┆ Yes        ┆ 15.4       ┆ High       ┆ 1          ┆ 1          ┆ 1          │\n",
            "└───────┴────────────┴────────────┴────────────┴────────────┴────────────┴────────────┴────────────┘\n"
          ]
        },
        {
          "output_type": "execute_result",
          "data": {
            "text/plain": [
              "Schema([('Grade', String),\n",
              "        ('Stress_Level (1-10)', Int64),\n",
              "        ('Internet_Access_at_Home', String),\n",
              "        ('Study_Hours_per_Week', Float64),\n",
              "        ('Family_Income_Level', String),\n",
              "        ('Income_Low', Int8),\n",
              "        ('Income_Medium', Int8),\n",
              "        ('Income_High', Int8)])"
            ]
          },
          "metadata": {},
          "execution_count": 8
        }
      ]
    },
    {
      "cell_type": "code",
      "source": [
        "df3.select([\"Family_Income_Level\",'Income_Low', 'Income_Medium', 'Income_High'])"
      ],
      "metadata": {
        "colab": {
          "base_uri": "https://localhost:8080/",
          "height": 443
        },
        "id": "CnEzfimyQZxR",
        "outputId": "ace0a1c1-c966-465a-8c4e-55c91f3f055b"
      },
      "execution_count": 9,
      "outputs": [
        {
          "output_type": "execute_result",
          "data": {
            "text/plain": [
              "shape: (5_000, 4)\n",
              "┌─────────────────────┬────────────┬───────────────┬─────────────┐\n",
              "│ Family_Income_Level ┆ Income_Low ┆ Income_Medium ┆ Income_High │\n",
              "│ ---                 ┆ ---        ┆ ---           ┆ ---         │\n",
              "│ str                 ┆ i8         ┆ i8            ┆ i8          │\n",
              "╞═════════════════════╪════════════╪═══════════════╪═════════════╡\n",
              "│ Medium              ┆ 1          ┆ 1             ┆ 0           │\n",
              "│ Medium              ┆ 1          ┆ 1             ┆ 0           │\n",
              "│ Low                 ┆ 1          ┆ 0             ┆ 0           │\n",
              "│ High                ┆ 1          ┆ 1             ┆ 1           │\n",
              "│ High                ┆ 1          ┆ 1             ┆ 1           │\n",
              "│ …                   ┆ …          ┆ …             ┆ …           │\n",
              "│ Low                 ┆ 1          ┆ 0             ┆ 0           │\n",
              "│ Medium              ┆ 1          ┆ 1             ┆ 0           │\n",
              "│ Medium              ┆ 1          ┆ 1             ┆ 0           │\n",
              "│ Low                 ┆ 1          ┆ 0             ┆ 0           │\n",
              "│ Low                 ┆ 1          ┆ 0             ┆ 0           │\n",
              "└─────────────────────┴────────────┴───────────────┴─────────────┘"
            ],
            "text/html": [
              "<div><style>\n",
              ".dataframe > thead > tr,\n",
              ".dataframe > tbody > tr {\n",
              "  text-align: right;\n",
              "  white-space: pre-wrap;\n",
              "}\n",
              "</style>\n",
              "<small>shape: (5_000, 4)</small><table border=\"1\" class=\"dataframe\"><thead><tr><th>Family_Income_Level</th><th>Income_Low</th><th>Income_Medium</th><th>Income_High</th></tr><tr><td>str</td><td>i8</td><td>i8</td><td>i8</td></tr></thead><tbody><tr><td>&quot;Medium&quot;</td><td>1</td><td>1</td><td>0</td></tr><tr><td>&quot;Medium&quot;</td><td>1</td><td>1</td><td>0</td></tr><tr><td>&quot;Low&quot;</td><td>1</td><td>0</td><td>0</td></tr><tr><td>&quot;High&quot;</td><td>1</td><td>1</td><td>1</td></tr><tr><td>&quot;High&quot;</td><td>1</td><td>1</td><td>1</td></tr><tr><td>&hellip;</td><td>&hellip;</td><td>&hellip;</td><td>&hellip;</td></tr><tr><td>&quot;Low&quot;</td><td>1</td><td>0</td><td>0</td></tr><tr><td>&quot;Medium&quot;</td><td>1</td><td>1</td><td>0</td></tr><tr><td>&quot;Medium&quot;</td><td>1</td><td>1</td><td>0</td></tr><tr><td>&quot;Low&quot;</td><td>1</td><td>0</td><td>0</td></tr><tr><td>&quot;Low&quot;</td><td>1</td><td>0</td><td>0</td></tr></tbody></table></div>"
            ]
          },
          "metadata": {},
          "execution_count": 9
        }
      ]
    },
    {
      "cell_type": "markdown",
      "source": [
        "Ahora en este ítem revisaré la función `hstack()` donde desarrollo un apilamiento horizontal que genera una concatenación de columnas del dataframe original obtenido de df3 con el resultado de las variables dummy, donde finalmente por medio de la variable df4 tendré todas las columnas originales del df3 + las nuevas columnas dummy del grade."
      ],
      "metadata": {
        "id": "tEkf-7dzxulW"
      }
    },
    {
      "cell_type": "markdown",
      "source": [
        "Adicionalmente en este punto visualizaré a df3 teniendo presente `select(\"Grade\")` que permite la selección de la columna `Grade` del DataFrame df3 y la función `to_dummies()` que convierte la columna categórica  `Grade` en variables dummy (one-hot-encoding). Teniendo presente que si `Grade` tiene valores como A,B y C se crearán nuevas columnas como:\n",
        "\n",
        "|  Grade   | Grade A | Grade B | Grade C |\n",
        "|----------|---------|---------|---------|\n",
        "|     A    |    1    |    0    |    0    |\n",
        "|     B    |    0    |    1    |    0    |\n",
        "|     C    |    0    |    0    |    1    |"
      ],
      "metadata": {
        "id": "XHE5Pl5OycD8"
      }
    },
    {
      "cell_type": "code",
      "source": [
        "df4 = df3.hstack(df3.select(\"Grade\").to_dummies())\n",
        "df4.schema"
      ],
      "metadata": {
        "colab": {
          "base_uri": "https://localhost:8080/"
        },
        "id": "fmpLabn0QiCa",
        "outputId": "79631595-c7bb-44f2-a066-d0ffe6223c05"
      },
      "execution_count": 10,
      "outputs": [
        {
          "output_type": "execute_result",
          "data": {
            "text/plain": [
              "Schema([('Grade', String),\n",
              "        ('Stress_Level (1-10)', Int64),\n",
              "        ('Internet_Access_at_Home', String),\n",
              "        ('Study_Hours_per_Week', Float64),\n",
              "        ('Family_Income_Level', String),\n",
              "        ('Income_Low', Int8),\n",
              "        ('Income_Medium', Int8),\n",
              "        ('Income_High', Int8),\n",
              "        ('Grade_A', UInt8),\n",
              "        ('Grade_B', UInt8),\n",
              "        ('Grade_C', UInt8),\n",
              "        ('Grade_D', UInt8),\n",
              "        ('Grade_F', UInt8)])"
            ]
          },
          "metadata": {},
          "execution_count": 10
        }
      ]
    },
    {
      "cell_type": "code",
      "source": [
        "df4.select(['Grade','Grade_A', 'Grade_B', 'Grade_C', 'Grade_D', 'Grade_F'])"
      ],
      "metadata": {
        "id": "p5Yd9mMk80m-",
        "outputId": "d1c1eac4-ee80-4a27-a8d2-dad5ed6d93b2",
        "colab": {
          "base_uri": "https://localhost:8080/",
          "height": 443
        }
      },
      "execution_count": 11,
      "outputs": [
        {
          "output_type": "execute_result",
          "data": {
            "text/plain": [
              "shape: (5_000, 6)\n",
              "┌───────┬─────────┬─────────┬─────────┬─────────┬─────────┐\n",
              "│ Grade ┆ Grade_A ┆ Grade_B ┆ Grade_C ┆ Grade_D ┆ Grade_F │\n",
              "│ ---   ┆ ---     ┆ ---     ┆ ---     ┆ ---     ┆ ---     │\n",
              "│ str   ┆ u8      ┆ u8      ┆ u8      ┆ u8      ┆ u8      │\n",
              "╞═══════╪═════════╪═════════╪═════════╪═════════╪═════════╡\n",
              "│ F     ┆ 0       ┆ 0       ┆ 0       ┆ 0       ┆ 1       │\n",
              "│ A     ┆ 1       ┆ 0       ┆ 0       ┆ 0       ┆ 0       │\n",
              "│ D     ┆ 0       ┆ 0       ┆ 0       ┆ 1       ┆ 0       │\n",
              "│ A     ┆ 1       ┆ 0       ┆ 0       ┆ 0       ┆ 0       │\n",
              "│ F     ┆ 0       ┆ 0       ┆ 0       ┆ 0       ┆ 1       │\n",
              "│ …     ┆ …       ┆ …       ┆ …       ┆ …       ┆ …       │\n",
              "│ D     ┆ 0       ┆ 0       ┆ 0       ┆ 1       ┆ 0       │\n",
              "│ C     ┆ 0       ┆ 0       ┆ 1       ┆ 0       ┆ 0       │\n",
              "│ A     ┆ 1       ┆ 0       ┆ 0       ┆ 0       ┆ 0       │\n",
              "│ A     ┆ 1       ┆ 0       ┆ 0       ┆ 0       ┆ 0       │\n",
              "│ F     ┆ 0       ┆ 0       ┆ 0       ┆ 0       ┆ 1       │\n",
              "└───────┴─────────┴─────────┴─────────┴─────────┴─────────┘"
            ],
            "text/html": [
              "<div><style>\n",
              ".dataframe > thead > tr,\n",
              ".dataframe > tbody > tr {\n",
              "  text-align: right;\n",
              "  white-space: pre-wrap;\n",
              "}\n",
              "</style>\n",
              "<small>shape: (5_000, 6)</small><table border=\"1\" class=\"dataframe\"><thead><tr><th>Grade</th><th>Grade_A</th><th>Grade_B</th><th>Grade_C</th><th>Grade_D</th><th>Grade_F</th></tr><tr><td>str</td><td>u8</td><td>u8</td><td>u8</td><td>u8</td><td>u8</td></tr></thead><tbody><tr><td>&quot;F&quot;</td><td>0</td><td>0</td><td>0</td><td>0</td><td>1</td></tr><tr><td>&quot;A&quot;</td><td>1</td><td>0</td><td>0</td><td>0</td><td>0</td></tr><tr><td>&quot;D&quot;</td><td>0</td><td>0</td><td>0</td><td>1</td><td>0</td></tr><tr><td>&quot;A&quot;</td><td>1</td><td>0</td><td>0</td><td>0</td><td>0</td></tr><tr><td>&quot;F&quot;</td><td>0</td><td>0</td><td>0</td><td>0</td><td>1</td></tr><tr><td>&hellip;</td><td>&hellip;</td><td>&hellip;</td><td>&hellip;</td><td>&hellip;</td><td>&hellip;</td></tr><tr><td>&quot;D&quot;</td><td>0</td><td>0</td><td>0</td><td>1</td><td>0</td></tr><tr><td>&quot;C&quot;</td><td>0</td><td>0</td><td>1</td><td>0</td><td>0</td></tr><tr><td>&quot;A&quot;</td><td>1</td><td>0</td><td>0</td><td>0</td><td>0</td></tr><tr><td>&quot;A&quot;</td><td>1</td><td>0</td><td>0</td><td>0</td><td>0</td></tr><tr><td>&quot;F&quot;</td><td>0</td><td>0</td><td>0</td><td>0</td><td>1</td></tr></tbody></table></div>"
            ]
          },
          "metadata": {},
          "execution_count": 11
        }
      ]
    },
    {
      "cell_type": "markdown",
      "source": [
        "# **Primer Punto:** ¿Cómo puedes evaluar la hipótesis de que el problema de que casi todas las predicciones den `Medium` se debe a la desproporción de datos en esa columna?"
      ],
      "metadata": {
        "id": "YZ0LCENIrqX6"
      }
    },
    {
      "cell_type": "markdown",
      "source": [
        "Como se visualizó anteriormente en el histograma que se expuso, se observa que la columna `Family_Income_Level` tiene una distribución desproporcionada, se procede a compartir nuevamente la información gráfica:"
      ],
      "metadata": {
        "id": "pi-Hk1ZHEHDs"
      }
    },
    {
      "cell_type": "code",
      "execution_count": 12,
      "metadata": {
        "id": "iVaJaW1fqjvR",
        "colab": {
          "base_uri": "https://localhost:8080/",
          "height": 452
        },
        "outputId": "ee925a3c-9883-4eb4-e030-763c69d5ba2a"
      },
      "outputs": [
        {
          "output_type": "display_data",
          "data": {
            "text/plain": [
              "<Figure size 640x480 with 1 Axes>"
            ],
            "image/png": "[encoded data removed]"
          },
          "metadata": {}
        }
      ],
      "source": [
        "import matplotlib.pyplot as plt\n",
        "\n",
        "# Datos\n",
        "x = [\"Low\", \"Medium\", \"High\"]\n",
        "y = [1983, 1973, 1044]\n",
        "\n",
        "bar_labels = ['Low', 'Medium', 'High']\n",
        "bar_colors = ['tab:blue', 'tab:green', 'tab:red']\n",
        "\n",
        "# Gráfico de barras\n",
        "fig, ax = plt.subplots()\n",
        "ax.bar(x = x, height = y, label=bar_labels, color=bar_colors)\n",
        "\n",
        "# Etiquetas de la gráfica\n",
        "ax.set_ylabel('Frecuencia de Conteo')\n",
        "ax.set_title('Frecuencia Variable Family_Income_Level')\n",
        "ax.legend(title='Conteo Ingreso Familiar')\n",
        "\n",
        "plt.show()"
      ]
    },
    {
      "cell_type": "markdown",
      "source": [
        "Voy a proceder a generar una matriz de confusión y métricas sin balanceo."
      ],
      "metadata": {
        "id": "voSIv2IDE6LS"
      }
    },
    {
      "cell_type": "code",
      "source": [
        "from sklearn.model_selection import train_test_split\n",
        "from sklearn.neighbors import KNeighborsClassifier\n",
        "from sklearn.metrics import confusion_matrix, classification_report\n",
        "import pandas as pd\n",
        "\n",
        "# Convertir a pandas para compatibilidad con sklearn\n",
        "df_pandas = df2.to_pandas()\n",
        "\n",
        "# Codificar variables categóricas\n",
        "df_encoded = pd.get_dummies(df_pandas, columns=[\"Grade\", \"Internet_Access_at_Home\"])\n",
        "\n",
        "# Separar features y target\n",
        "X = df_encoded.drop(\"Family_Income_Level\", axis=1)\n",
        "y = df_encoded[\"Family_Income_Level\"]\n",
        "\n",
        "# Train-test split\n",
        "X_train, X_test, y_train, y_test = train_test_split(X, y, test_size=0.3, random_state=42)\n",
        "\n",
        "# Modelo k-NN\n",
        "knn = KNeighborsClassifier(n_neighbors=5)\n",
        "knn.fit(X_train, y_train)\n",
        "y_pred = knn.predict(X_test)\n",
        "\n",
        "# Matriz de confusión\n",
        "print(\"Matriz de Confusión:\\n\", confusion_matrix(y_test, y_pred))\n",
        "\n",
        "# Métricas por clase\n",
        "print(\"\\nReporte de Clasificación:\\n\", classification_report(y_test, y_pred))"
      ],
      "metadata": {
        "colab": {
          "base_uri": "https://localhost:8080/"
        },
        "id": "c7JrAsyOEzY5",
        "outputId": "b376a735-c1cf-48eb-b9e4-08d653f0fead"
      },
      "execution_count": 13,
      "outputs": [
        {
          "output_type": "stream",
          "name": "stdout",
          "text": [
            "Matriz de Confusión:\n",
            " [[ 78 154  91]\n",
            " [130 269 194]\n",
            " [132 258 194]]\n",
            "\n",
            "Reporte de Clasificación:\n",
            "               precision    recall  f1-score   support\n",
            "\n",
            "        High       0.23      0.24      0.24       323\n",
            "         Low       0.40      0.45      0.42       593\n",
            "      Medium       0.41      0.33      0.37       584\n",
            "\n",
            "    accuracy                           0.36      1500\n",
            "   macro avg       0.34      0.34      0.34      1500\n",
            "weighted avg       0.36      0.36      0.36      1500\n",
            "\n"
          ]
        }
      ]
    },
    {
      "cell_type": "markdown",
      "source": [
        "Se puede visualizar en este caso que la matriz de confusión me genera la siguiente información:\n",
        "\n",
        "### Interpretación\n",
        "**Filas**: Representa las clases reales.\n",
        "\n",
        "**Columnas**: Representan las clases predichas por el modelo.\n",
        "\n",
        "**Diagonal Principal(78, 269, 194)**: Son las predicciones correctas (verdaderos positivos).\n",
        "\n",
        "**Fuera de la Diagonal**: Son los errores del modelo.\n",
        "\n",
        "###  Desglose por Clase\n",
        "\n",
        "**Clase High (Real)**:\n",
        "\n",
        "78 muestras se clasificaron correctamente como `High`.\n",
        "\n",
        "154 se clasificaron erróneamente como `Low`.\n",
        "\n",
        "91 se clasificaron erróneamente como `Medium`.\n",
        "\n",
        "**Clase \"Low\" (Real):**\n",
        "\n",
        "269 muestras se clasificaron correctamente como `Low`.\n",
        "\n",
        "130 se clasificaron erróneamente como `High`.\n",
        "\n",
        "194 se clasificaron erróneamente como `Medium`.\n",
        "\n",
        "**Clase \"Medium\" (Real):**\n",
        "\n",
        "194 muestras se clasificaron correctamente como `Medium`.\n",
        "\n",
        "132 se clasificaron erróneamente como `High`.\n",
        "\n",
        "258 se clasificaron erróneamente como `Low`.\n",
        "\n",
        "## Métricas por clase\n",
        "### Precisión\n",
        "Con este ítem busco resolver la siguiente pregunta: De todas las muestras predichas como clase X, ¿cuántas eran realmente de esa clase?\n",
        "\n",
        "Predicciones correctas de `Medium`: 194.\n",
        "\n",
        "Predicciones totales como `Medium`: 194 (correctas) + 194 (errores de Low) + 132 (errores de Medium) = 520.\n",
        "\n",
        "Precisión = 194 / 520 ≈ 0.37.\n"
      ],
      "metadata": {
        "id": "RS9gDyODJd69"
      }
    },
    {
      "cell_type": "markdown",
      "source": [
        "# **Segundo Punto:**Predecir la variable numérica **Horas_de_estudio_por_semana_normalizadas**, determinar el error para cada **k** y elegir la mejor **k**."
      ],
      "metadata": {
        "id": "C1SNTXIWry4t"
      }
    },
    {
      "cell_type": "markdown",
      "source": [
        "Para este ejercicio tendré presente las siguientes variables del dataset:\n",
        "\n",
        "### Predictores\n",
        "*   Grade: El cuá es una variable categórica (A,B,C,D,F)\n",
        "*   Stress_Level (1-10):La cuál es una variable.\n",
        "*   Internet_Access_at_Home: Variable categórica Yes/No\n",
        "*   Family_Income_Level: Variable categórica Low/Medium/High.\n",
        "\n",
        "### Target\n",
        "`Study_Hours_per_Week_normalized`: Variable numérica ya normalizada.\n"
      ],
      "metadata": {
        "id": "Ji7wNC_RA2ZP"
      }
    },
    {
      "cell_type": "code",
      "source": [
        "df4 = df3.hstack(df3.select(\"Grade\").to_dummies())\n",
        "df4.schema"
      ],
      "metadata": {
        "colab": {
          "base_uri": "https://localhost:8080/"
        },
        "id": "ljTGRljpGd-C",
        "outputId": "b7ee617a-19af-4cd0-f470-e51e9cc721d7"
      },
      "execution_count": 14,
      "outputs": [
        {
          "output_type": "execute_result",
          "data": {
            "text/plain": [
              "Schema([('Grade', String),\n",
              "        ('Stress_Level (1-10)', Int64),\n",
              "        ('Internet_Access_at_Home', String),\n",
              "        ('Study_Hours_per_Week', Float64),\n",
              "        ('Family_Income_Level', String),\n",
              "        ('Income_Low', Int8),\n",
              "        ('Income_Medium', Int8),\n",
              "        ('Income_High', Int8),\n",
              "        ('Grade_A', UInt8),\n",
              "        ('Grade_B', UInt8),\n",
              "        ('Grade_C', UInt8),\n",
              "        ('Grade_D', UInt8),\n",
              "        ('Grade_F', UInt8)])"
            ]
          },
          "metadata": {},
          "execution_count": 14
        }
      ]
    },
    {
      "cell_type": "code",
      "source": [
        "df4.select(['Grade','Grade_A', 'Grade_B', 'Grade_C', 'Grade_D', 'Grade_F'])"
      ],
      "metadata": {
        "colab": {
          "base_uri": "https://localhost:8080/",
          "height": 443
        },
        "id": "vPsJOJPKGh37",
        "outputId": "5f88cedc-8ae1-4c70-f91f-225ef7edf9c4"
      },
      "execution_count": 15,
      "outputs": [
        {
          "output_type": "execute_result",
          "data": {
            "text/plain": [
              "shape: (5_000, 6)\n",
              "┌───────┬─────────┬─────────┬─────────┬─────────┬─────────┐\n",
              "│ Grade ┆ Grade_A ┆ Grade_B ┆ Grade_C ┆ Grade_D ┆ Grade_F │\n",
              "│ ---   ┆ ---     ┆ ---     ┆ ---     ┆ ---     ┆ ---     │\n",
              "│ str   ┆ u8      ┆ u8      ┆ u8      ┆ u8      ┆ u8      │\n",
              "╞═══════╪═════════╪═════════╪═════════╪═════════╪═════════╡\n",
              "│ F     ┆ 0       ┆ 0       ┆ 0       ┆ 0       ┆ 1       │\n",
              "│ A     ┆ 1       ┆ 0       ┆ 0       ┆ 0       ┆ 0       │\n",
              "│ D     ┆ 0       ┆ 0       ┆ 0       ┆ 1       ┆ 0       │\n",
              "│ A     ┆ 1       ┆ 0       ┆ 0       ┆ 0       ┆ 0       │\n",
              "│ F     ┆ 0       ┆ 0       ┆ 0       ┆ 0       ┆ 1       │\n",
              "│ …     ┆ …       ┆ …       ┆ …       ┆ …       ┆ …       │\n",
              "│ D     ┆ 0       ┆ 0       ┆ 0       ┆ 1       ┆ 0       │\n",
              "│ C     ┆ 0       ┆ 0       ┆ 1       ┆ 0       ┆ 0       │\n",
              "│ A     ┆ 1       ┆ 0       ┆ 0       ┆ 0       ┆ 0       │\n",
              "│ A     ┆ 1       ┆ 0       ┆ 0       ┆ 0       ┆ 0       │\n",
              "│ F     ┆ 0       ┆ 0       ┆ 0       ┆ 0       ┆ 1       │\n",
              "└───────┴─────────┴─────────┴─────────┴─────────┴─────────┘"
            ],
            "text/html": [
              "<div><style>\n",
              ".dataframe > thead > tr,\n",
              ".dataframe > tbody > tr {\n",
              "  text-align: right;\n",
              "  white-space: pre-wrap;\n",
              "}\n",
              "</style>\n",
              "<small>shape: (5_000, 6)</small><table border=\"1\" class=\"dataframe\"><thead><tr><th>Grade</th><th>Grade_A</th><th>Grade_B</th><th>Grade_C</th><th>Grade_D</th><th>Grade_F</th></tr><tr><td>str</td><td>u8</td><td>u8</td><td>u8</td><td>u8</td><td>u8</td></tr></thead><tbody><tr><td>&quot;F&quot;</td><td>0</td><td>0</td><td>0</td><td>0</td><td>1</td></tr><tr><td>&quot;A&quot;</td><td>1</td><td>0</td><td>0</td><td>0</td><td>0</td></tr><tr><td>&quot;D&quot;</td><td>0</td><td>0</td><td>0</td><td>1</td><td>0</td></tr><tr><td>&quot;A&quot;</td><td>1</td><td>0</td><td>0</td><td>0</td><td>0</td></tr><tr><td>&quot;F&quot;</td><td>0</td><td>0</td><td>0</td><td>0</td><td>1</td></tr><tr><td>&hellip;</td><td>&hellip;</td><td>&hellip;</td><td>&hellip;</td><td>&hellip;</td><td>&hellip;</td></tr><tr><td>&quot;D&quot;</td><td>0</td><td>0</td><td>0</td><td>1</td><td>0</td></tr><tr><td>&quot;C&quot;</td><td>0</td><td>0</td><td>1</td><td>0</td><td>0</td></tr><tr><td>&quot;A&quot;</td><td>1</td><td>0</td><td>0</td><td>0</td><td>0</td></tr><tr><td>&quot;A&quot;</td><td>1</td><td>0</td><td>0</td><td>0</td><td>0</td></tr><tr><td>&quot;F&quot;</td><td>0</td><td>0</td><td>0</td><td>0</td><td>1</td></tr></tbody></table></div>"
            ]
          },
          "metadata": {},
          "execution_count": 15
        }
      ]
    },
    {
      "cell_type": "code",
      "source": [
        "df4 = df4.with_columns(\n",
        "    df4[\"Internet_Access_at_Home\"].replace({\"Yes\": 1, \"No\": 0}).cast(pl.Int8)\n",
        ")"
      ],
      "metadata": {
        "id": "j8jzQXZMGpAv"
      },
      "execution_count": 16,
      "outputs": []
    },
    {
      "cell_type": "code",
      "source": [
        "df5=df4.drop([\"Grade\",'Stress_Level (1-10)','Study_Hours_per_Week','Family_Income_Level'])\n",
        "df5.schema"
      ],
      "metadata": {
        "colab": {
          "base_uri": "https://localhost:8080/"
        },
        "id": "GppsNhfGGry9",
        "outputId": "5e071293-e5b9-486d-e17f-4fdb6a3274f3"
      },
      "execution_count": 17,
      "outputs": [
        {
          "output_type": "execute_result",
          "data": {
            "text/plain": [
              "Schema([('Internet_Access_at_Home', Int8),\n",
              "        ('Income_Low', Int8),\n",
              "        ('Income_Medium', Int8),\n",
              "        ('Income_High', Int8),\n",
              "        ('Grade_A', UInt8),\n",
              "        ('Grade_B', UInt8),\n",
              "        ('Grade_C', UInt8),\n",
              "        ('Grade_D', UInt8),\n",
              "        ('Grade_F', UInt8)])"
            ]
          },
          "metadata": {},
          "execution_count": 17
        }
      ]
    },
    {
      "cell_type": "code",
      "source": [
        "df5"
      ],
      "metadata": {
        "colab": {
          "base_uri": "https://localhost:8080/",
          "height": 443
        },
        "id": "fxWcL0-NG91i",
        "outputId": "1bec6ae5-1ec8-49f0-949e-a8d86fd35761"
      },
      "execution_count": 18,
      "outputs": [
        {
          "output_type": "execute_result",
          "data": {
            "text/plain": [
              "shape: (5_000, 9)\n",
              "┌─────────────┬────────────┬─────────────┬─────────────┬───┬─────────┬─────────┬─────────┬─────────┐\n",
              "│ Internet_Ac ┆ Income_Low ┆ Income_Medi ┆ Income_High ┆ … ┆ Grade_B ┆ Grade_C ┆ Grade_D ┆ Grade_F │\n",
              "│ cess_at_Hom ┆ ---        ┆ um          ┆ ---         ┆   ┆ ---     ┆ ---     ┆ ---     ┆ ---     │\n",
              "│ e           ┆ i8         ┆ ---         ┆ i8          ┆   ┆ u8      ┆ u8      ┆ u8      ┆ u8      │\n",
              "│ ---         ┆            ┆ i8          ┆             ┆   ┆         ┆         ┆         ┆         │\n",
              "│ i8          ┆            ┆             ┆             ┆   ┆         ┆         ┆         ┆         │\n",
              "╞═════════════╪════════════╪═════════════╪═════════════╪═══╪═════════╪═════════╪═════════╪═════════╡\n",
              "│ 1           ┆ 1          ┆ 1           ┆ 0           ┆ … ┆ 0       ┆ 0       ┆ 0       ┆ 1       │\n",
              "│ 1           ┆ 1          ┆ 1           ┆ 0           ┆ … ┆ 0       ┆ 0       ┆ 0       ┆ 0       │\n",
              "│ 1           ┆ 1          ┆ 0           ┆ 0           ┆ … ┆ 0       ┆ 0       ┆ 1       ┆ 0       │\n",
              "│ 1           ┆ 1          ┆ 1           ┆ 1           ┆ … ┆ 0       ┆ 0       ┆ 0       ┆ 0       │\n",
              "│ 1           ┆ 1          ┆ 1           ┆ 1           ┆ … ┆ 0       ┆ 0       ┆ 0       ┆ 1       │\n",
              "│ …           ┆ …          ┆ …           ┆ …           ┆ … ┆ …       ┆ …       ┆ …       ┆ …       │\n",
              "│ 1           ┆ 1          ┆ 0           ┆ 0           ┆ … ┆ 0       ┆ 0       ┆ 1       ┆ 0       │\n",
              "│ 1           ┆ 1          ┆ 1           ┆ 0           ┆ … ┆ 0       ┆ 1       ┆ 0       ┆ 0       │\n",
              "│ 0           ┆ 1          ┆ 1           ┆ 0           ┆ … ┆ 0       ┆ 0       ┆ 0       ┆ 0       │\n",
              "│ 1           ┆ 1          ┆ 0           ┆ 0           ┆ … ┆ 0       ┆ 0       ┆ 0       ┆ 0       │\n",
              "│ 1           ┆ 1          ┆ 0           ┆ 0           ┆ … ┆ 0       ┆ 0       ┆ 0       ┆ 1       │\n",
              "└─────────────┴────────────┴─────────────┴─────────────┴───┴─────────┴─────────┴─────────┴─────────┘"
            ],
            "text/html": [
              "<div><style>\n",
              ".dataframe > thead > tr,\n",
              ".dataframe > tbody > tr {\n",
              "  text-align: right;\n",
              "  white-space: pre-wrap;\n",
              "}\n",
              "</style>\n",
              "<small>shape: (5_000, 9)</small><table border=\"1\" class=\"dataframe\"><thead><tr><th>Internet_Access_at_Home</th><th>Income_Low</th><th>Income_Medium</th><th>Income_High</th><th>Grade_A</th><th>Grade_B</th><th>Grade_C</th><th>Grade_D</th><th>Grade_F</th></tr><tr><td>i8</td><td>i8</td><td>i8</td><td>i8</td><td>u8</td><td>u8</td><td>u8</td><td>u8</td><td>u8</td></tr></thead><tbody><tr><td>1</td><td>1</td><td>1</td><td>0</td><td>0</td><td>0</td><td>0</td><td>0</td><td>1</td></tr><tr><td>1</td><td>1</td><td>1</td><td>0</td><td>1</td><td>0</td><td>0</td><td>0</td><td>0</td></tr><tr><td>1</td><td>1</td><td>0</td><td>0</td><td>0</td><td>0</td><td>0</td><td>1</td><td>0</td></tr><tr><td>1</td><td>1</td><td>1</td><td>1</td><td>1</td><td>0</td><td>0</td><td>0</td><td>0</td></tr><tr><td>1</td><td>1</td><td>1</td><td>1</td><td>0</td><td>0</td><td>0</td><td>0</td><td>1</td></tr><tr><td>&hellip;</td><td>&hellip;</td><td>&hellip;</td><td>&hellip;</td><td>&hellip;</td><td>&hellip;</td><td>&hellip;</td><td>&hellip;</td><td>&hellip;</td></tr><tr><td>1</td><td>1</td><td>0</td><td>0</td><td>0</td><td>0</td><td>0</td><td>1</td><td>0</td></tr><tr><td>1</td><td>1</td><td>1</td><td>0</td><td>0</td><td>0</td><td>1</td><td>0</td><td>0</td></tr><tr><td>0</td><td>1</td><td>1</td><td>0</td><td>1</td><td>0</td><td>0</td><td>0</td><td>0</td></tr><tr><td>1</td><td>1</td><td>0</td><td>0</td><td>1</td><td>0</td><td>0</td><td>0</td><td>0</td></tr><tr><td>1</td><td>1</td><td>0</td><td>0</td><td>0</td><td>0</td><td>0</td><td>0</td><td>1</td></tr></tbody></table></div>"
            ]
          },
          "metadata": {},
          "execution_count": 18
        }
      ]
    },
    {
      "cell_type": "code",
      "source": [
        "from sklearn.preprocessing import StandardScaler\n",
        "import pandas as pd\n",
        "df_encoded = pd.get_dummies(df.to_pandas(), columns=[\"Grade\", \"Internet_Access_at_Home\", \"Family_Income_Level\"])\n",
        "\n",
        "\n",
        "scaler = StandardScaler()\n",
        "df_encoded[\"Stress_Level\"] = scaler.fit_transform(df_encoded[[\"Stress_Level (1-10)\"]])"
      ],
      "metadata": {
        "id": "43UFbUh1HaBL"
      },
      "execution_count": 19,
      "outputs": []
    },
    {
      "cell_type": "code",
      "source": [
        "from sklearn.model_selection import train_test_split\n",
        "\n",
        "# Verify the column names in df_encoded\n",
        "print(df_encoded.columns)\n",
        "\n",
        "# Access the correct column name for Study_Hours_per_Week_normalized\n",
        "# Assuming the column is actually named 'Study_Hours_per_Week'\n",
        "X = df_encoded.drop(\"Study_Hours_per_Week\", axis=1)\n",
        "y = df_encoded[\"Study_Hours_per_Week\"]\n",
        "\n",
        "X_train, X_test, y_train, y_test = train_test_split(X, y, test_size=0.2, random_state=42)"
      ],
      "metadata": {
        "colab": {
          "base_uri": "https://localhost:8080/"
        },
        "id": "Itq0EXe4IHld",
        "outputId": "d42d00b0-c67c-4174-ca63-168cb8682374"
      },
      "execution_count": 20,
      "outputs": [
        {
          "output_type": "stream",
          "name": "stdout",
          "text": [
            "Index(['Student_ID', 'First_Name', 'Last_Name', 'Email', 'Gender', 'Age',\n",
            "       'Department', 'Attendance (%)', 'Midterm_Score', 'Final_Score',\n",
            "       'Assignments_Avg', 'Quizzes_Avg', 'Participation_Score',\n",
            "       'Projects_Score', 'Total_Score', 'Study_Hours_per_Week',\n",
            "       'Extracurricular_Activities', 'Parent_Education_Level',\n",
            "       'Stress_Level (1-10)', 'Sleep_Hours_per_Night', 'Grade_A', 'Grade_B',\n",
            "       'Grade_C', 'Grade_D', 'Grade_F', 'Internet_Access_at_Home_No',\n",
            "       'Internet_Access_at_Home_Yes', 'Family_Income_Level_High',\n",
            "       'Family_Income_Level_Low', 'Family_Income_Level_Medium',\n",
            "       'Stress_Level'],\n",
            "      dtype='object')\n"
          ]
        }
      ]
    },
    {
      "cell_type": "code",
      "source": [
        "from sklearn.model_selection import train_test_split\n",
        "from sklearn.preprocessing import StandardScaler\n",
        "import pandas as pd\n",
        "\n",
        "df_encoded = pd.get_dummies(df.to_pandas(),\n",
        "                           columns=[\"Grade\", \"Internet_Access_at_Home\", \"Family_Income_Level\"])\n",
        "\n",
        "# Scale numerical features\n",
        "scaler = StandardScaler()\n",
        "numerical_features = ['Stress_Level (1-10)']  # List numerical features to scale\n",
        "df_encoded[numerical_features] = scaler.fit_transform(df_encoded[numerical_features])\n",
        "\n",
        "# Drop the 'Student_ID', 'First_Name', and 'Last_Name' columns\n",
        "# (and any other irrelevant columns)\n",
        "X = df_encoded.drop([\"Study_Hours_per_Week\",\"Gender\",\"Department\",\"Email\", \"Student_ID\", \"First_Name\", \"Last_Name\",\"Extracurricular_Activities\",\"Parent_Education_Level\"], axis=1)\n",
        "y = df_encoded[\"Study_Hours_per_Week\"]\n",
        "\n",
        "X = X.fillna(0)\n",
        "\n",
        "X_train, X_test, y_train, y_test = train_test_split(X, y, test_size=0.2, random_state=42)"
      ],
      "metadata": {
        "id": "tJ_QVTErKsGo"
      },
      "execution_count": 37,
      "outputs": []
    },
    {
      "cell_type": "code",
      "source": [
        "X_train.head(10)"
      ],
      "metadata": {
        "colab": {
          "base_uri": "https://localhost:8080/",
          "height": 429
        },
        "id": "7B71VEIQThQR",
        "outputId": "d3ad8587-38e6-4065-87ad-149faf02774b"
      },
      "execution_count": 38,
      "outputs": [
        {
          "output_type": "execute_result",
          "data": {
            "text/plain": [
              "      Age  Attendance (%)  Midterm_Score  Final_Score  Assignments_Avg  \\\n",
              "4227   23           98.44          80.95        88.98            85.96   \n",
              "4676   23           91.52          59.35        90.03            75.71   \n",
              "800    24           89.47          57.77        41.63            52.64   \n",
              "3671   18           87.23          64.07        86.43            50.29   \n",
              "4193   24           97.41          95.66        88.27            78.02   \n",
              "2968   19           77.07          65.76        67.88             0.00   \n",
              "4793   24           84.26          94.68        66.24            81.14   \n",
              "4368   18           74.53          83.37        55.94            57.93   \n",
              "2776   23           69.33          81.13        52.06            76.67   \n",
              "2970   24           84.18          97.74        59.95            56.61   \n",
              "\n",
              "      Quizzes_Avg  Participation_Score  Projects_Score  Total_Score  \\\n",
              "4227        95.36                 7.92           81.81        59.62   \n",
              "4676        58.33                 3.25           91.59        77.61   \n",
              "800         86.49                 6.91           74.34        66.87   \n",
              "3671        86.54                 3.52           81.19        73.81   \n",
              "4193        62.18                 5.60           80.60        69.69   \n",
              "2968        82.72                 1.78           82.42        90.23   \n",
              "4793        60.69                 4.04           99.72        75.13   \n",
              "4368        64.60                 4.61           82.43        99.80   \n",
              "2776        56.66                 5.83           93.40        50.38   \n",
              "2970        75.80                 7.58           97.37        64.23   \n",
              "\n",
              "      Stress_Level (1-10)  ...  Grade_A  Grade_B  Grade_C  Grade_D  Grade_F  \\\n",
              "4227            -1.216525  ...     True    False    False    False    False   \n",
              "4676            -1.566021  ...     True    False    False    False    False   \n",
              "800             -1.216525  ...     True    False    False    False    False   \n",
              "3671             0.880450  ...    False     True    False    False    False   \n",
              "4193             1.579442  ...     True    False    False    False    False   \n",
              "2968            -1.566021  ...    False    False    False    False     True   \n",
              "4793             0.181458  ...    False    False    False    False     True   \n",
              "4368            -1.566021  ...    False    False     True    False    False   \n",
              "2776            -0.517534  ...    False    False     True    False    False   \n",
              "2970            -1.566021  ...     True    False    False    False    False   \n",
              "\n",
              "      Internet_Access_at_Home_No  Internet_Access_at_Home_Yes  \\\n",
              "4227                       False                         True   \n",
              "4676                       False                         True   \n",
              "800                        False                         True   \n",
              "3671                       False                         True   \n",
              "4193                        True                        False   \n",
              "2968                       False                         True   \n",
              "4793                        True                        False   \n",
              "4368                       False                         True   \n",
              "2776                       False                         True   \n",
              "2970                       False                         True   \n",
              "\n",
              "      Family_Income_Level_High  Family_Income_Level_Low  \\\n",
              "4227                     False                     True   \n",
              "4676                     False                    False   \n",
              "800                      False                     True   \n",
              "3671                     False                    False   \n",
              "4193                     False                    False   \n",
              "2968                     False                     True   \n",
              "4793                     False                     True   \n",
              "4368                     False                     True   \n",
              "2776                     False                     True   \n",
              "2970                     False                    False   \n",
              "\n",
              "      Family_Income_Level_Medium  \n",
              "4227                       False  \n",
              "4676                        True  \n",
              "800                        False  \n",
              "3671                        True  \n",
              "4193                        True  \n",
              "2968                       False  \n",
              "4793                       False  \n",
              "4368                       False  \n",
              "2776                       False  \n",
              "2970                        True  \n",
              "\n",
              "[10 rows x 21 columns]"
            ],
            "text/html": [
              "\n",
              "  <div id=\"df-c65bab4e-49b7-4bb4-bb48-b088ab2366bc\" class=\"colab-df-container\">\n",
              "    <div>\n",
              "<style scoped>\n",
              "    .dataframe tbody tr th:only-of-type {\n",
              "        vertical-align: middle;\n",
              "    }\n",
              "\n",
              "    .dataframe tbody tr th {\n",
              "        vertical-align: top;\n",
              "    }\n",
              "\n",
              "    .dataframe thead th {\n",
              "        text-align: right;\n",
              "    }\n",
              "</style>\n",
              "<table border=\"1\" class=\"dataframe\">\n",
              "  <thead>\n",
              "    <tr style=\"text-align: right;\">\n",
              "      <th></th>\n",
              "      <th>Age</th>\n",
              "      <th>Attendance (%)</th>\n",
              "      <th>Midterm_Score</th>\n",
              "      <th>Final_Score</th>\n",
              "      <th>Assignments_Avg</th>\n",
              "      <th>Quizzes_Avg</th>\n",
              "      <th>Participation_Score</th>\n",
              "      <th>Projects_Score</th>\n",
              "      <th>Total_Score</th>\n",
              "      <th>Stress_Level (1-10)</th>\n",
              "      <th>...</th>\n",
              "      <th>Grade_A</th>\n",
              "      <th>Grade_B</th>\n",
              "      <th>Grade_C</th>\n",
              "      <th>Grade_D</th>\n",
              "      <th>Grade_F</th>\n",
              "      <th>Internet_Access_at_Home_No</th>\n",
              "      <th>Internet_Access_at_Home_Yes</th>\n",
              "      <th>Family_Income_Level_High</th>\n",
              "      <th>Family_Income_Level_Low</th>\n",
              "      <th>Family_Income_Level_Medium</th>\n",
              "    </tr>\n",
              "  </thead>\n",
              "  <tbody>\n",
              "    <tr>\n",
              "      <th>4227</th>\n",
              "      <td>23</td>\n",
              "      <td>98.44</td>\n",
              "      <td>80.95</td>\n",
              "      <td>88.98</td>\n",
              "      <td>85.96</td>\n",
              "      <td>95.36</td>\n",
              "      <td>7.92</td>\n",
              "      <td>81.81</td>\n",
              "      <td>59.62</td>\n",
              "      <td>-1.216525</td>\n",
              "      <td>...</td>\n",
              "      <td>True</td>\n",
              "      <td>False</td>\n",
              "      <td>False</td>\n",
              "      <td>False</td>\n",
              "      <td>False</td>\n",
              "      <td>False</td>\n",
              "      <td>True</td>\n",
              "      <td>False</td>\n",
              "      <td>True</td>\n",
              "      <td>False</td>\n",
              "    </tr>\n",
              "    <tr>\n",
              "      <th>4676</th>\n",
              "      <td>23</td>\n",
              "      <td>91.52</td>\n",
              "      <td>59.35</td>\n",
              "      <td>90.03</td>\n",
              "      <td>75.71</td>\n",
              "      <td>58.33</td>\n",
              "      <td>3.25</td>\n",
              "      <td>91.59</td>\n",
              "      <td>77.61</td>\n",
              "      <td>-1.566021</td>\n",
              "      <td>...</td>\n",
              "      <td>True</td>\n",
              "      <td>False</td>\n",
              "      <td>False</td>\n",
              "      <td>False</td>\n",
              "      <td>False</td>\n",
              "      <td>False</td>\n",
              "      <td>True</td>\n",
              "      <td>False</td>\n",
              "      <td>False</td>\n",
              "      <td>True</td>\n",
              "    </tr>\n",
              "    <tr>\n",
              "      <th>800</th>\n",
              "      <td>24</td>\n",
              "      <td>89.47</td>\n",
              "      <td>57.77</td>\n",
              "      <td>41.63</td>\n",
              "      <td>52.64</td>\n",
              "      <td>86.49</td>\n",
              "      <td>6.91</td>\n",
              "      <td>74.34</td>\n",
              "      <td>66.87</td>\n",
              "      <td>-1.216525</td>\n",
              "      <td>...</td>\n",
              "      <td>True</td>\n",
              "      <td>False</td>\n",
              "      <td>False</td>\n",
              "      <td>False</td>\n",
              "      <td>False</td>\n",
              "      <td>False</td>\n",
              "      <td>True</td>\n",
              "      <td>False</td>\n",
              "      <td>True</td>\n",
              "      <td>False</td>\n",
              "    </tr>\n",
              "    <tr>\n",
              "      <th>3671</th>\n",
              "      <td>18</td>\n",
              "      <td>87.23</td>\n",
              "      <td>64.07</td>\n",
              "      <td>86.43</td>\n",
              "      <td>50.29</td>\n",
              "      <td>86.54</td>\n",
              "      <td>3.52</td>\n",
              "      <td>81.19</td>\n",
              "      <td>73.81</td>\n",
              "      <td>0.880450</td>\n",
              "      <td>...</td>\n",
              "      <td>False</td>\n",
              "      <td>True</td>\n",
              "      <td>False</td>\n",
              "      <td>False</td>\n",
              "      <td>False</td>\n",
              "      <td>False</td>\n",
              "      <td>True</td>\n",
              "      <td>False</td>\n",
              "      <td>False</td>\n",
              "      <td>True</td>\n",
              "    </tr>\n",
              "    <tr>\n",
              "      <th>4193</th>\n",
              "      <td>24</td>\n",
              "      <td>97.41</td>\n",
              "      <td>95.66</td>\n",
              "      <td>88.27</td>\n",
              "      <td>78.02</td>\n",
              "      <td>62.18</td>\n",
              "      <td>5.60</td>\n",
              "      <td>80.60</td>\n",
              "      <td>69.69</td>\n",
              "      <td>1.579442</td>\n",
              "      <td>...</td>\n",
              "      <td>True</td>\n",
              "      <td>False</td>\n",
              "      <td>False</td>\n",
              "      <td>False</td>\n",
              "      <td>False</td>\n",
              "      <td>True</td>\n",
              "      <td>False</td>\n",
              "      <td>False</td>\n",
              "      <td>False</td>\n",
              "      <td>True</td>\n",
              "    </tr>\n",
              "    <tr>\n",
              "      <th>2968</th>\n",
              "      <td>19</td>\n",
              "      <td>77.07</td>\n",
              "      <td>65.76</td>\n",
              "      <td>67.88</td>\n",
              "      <td>0.00</td>\n",
              "      <td>82.72</td>\n",
              "      <td>1.78</td>\n",
              "      <td>82.42</td>\n",
              "      <td>90.23</td>\n",
              "      <td>-1.566021</td>\n",
              "      <td>...</td>\n",
              "      <td>False</td>\n",
              "      <td>False</td>\n",
              "      <td>False</td>\n",
              "      <td>False</td>\n",
              "      <td>True</td>\n",
              "      <td>False</td>\n",
              "      <td>True</td>\n",
              "      <td>False</td>\n",
              "      <td>True</td>\n",
              "      <td>False</td>\n",
              "    </tr>\n",
              "    <tr>\n",
              "      <th>4793</th>\n",
              "      <td>24</td>\n",
              "      <td>84.26</td>\n",
              "      <td>94.68</td>\n",
              "      <td>66.24</td>\n",
              "      <td>81.14</td>\n",
              "      <td>60.69</td>\n",
              "      <td>4.04</td>\n",
              "      <td>99.72</td>\n",
              "      <td>75.13</td>\n",
              "      <td>0.181458</td>\n",
              "      <td>...</td>\n",
              "      <td>False</td>\n",
              "      <td>False</td>\n",
              "      <td>False</td>\n",
              "      <td>False</td>\n",
              "      <td>True</td>\n",
              "      <td>True</td>\n",
              "      <td>False</td>\n",
              "      <td>False</td>\n",
              "      <td>True</td>\n",
              "      <td>False</td>\n",
              "    </tr>\n",
              "    <tr>\n",
              "      <th>4368</th>\n",
              "      <td>18</td>\n",
              "      <td>74.53</td>\n",
              "      <td>83.37</td>\n",
              "      <td>55.94</td>\n",
              "      <td>57.93</td>\n",
              "      <td>64.60</td>\n",
              "      <td>4.61</td>\n",
              "      <td>82.43</td>\n",
              "      <td>99.80</td>\n",
              "      <td>-1.566021</td>\n",
              "      <td>...</td>\n",
              "      <td>False</td>\n",
              "      <td>False</td>\n",
              "      <td>True</td>\n",
              "      <td>False</td>\n",
              "      <td>False</td>\n",
              "      <td>False</td>\n",
              "      <td>True</td>\n",
              "      <td>False</td>\n",
              "      <td>True</td>\n",
              "      <td>False</td>\n",
              "    </tr>\n",
              "    <tr>\n",
              "      <th>2776</th>\n",
              "      <td>23</td>\n",
              "      <td>69.33</td>\n",
              "      <td>81.13</td>\n",
              "      <td>52.06</td>\n",
              "      <td>76.67</td>\n",
              "      <td>56.66</td>\n",
              "      <td>5.83</td>\n",
              "      <td>93.40</td>\n",
              "      <td>50.38</td>\n",
              "      <td>-0.517534</td>\n",
              "      <td>...</td>\n",
              "      <td>False</td>\n",
              "      <td>False</td>\n",
              "      <td>True</td>\n",
              "      <td>False</td>\n",
              "      <td>False</td>\n",
              "      <td>False</td>\n",
              "      <td>True</td>\n",
              "      <td>False</td>\n",
              "      <td>True</td>\n",
              "      <td>False</td>\n",
              "    </tr>\n",
              "    <tr>\n",
              "      <th>2970</th>\n",
              "      <td>24</td>\n",
              "      <td>84.18</td>\n",
              "      <td>97.74</td>\n",
              "      <td>59.95</td>\n",
              "      <td>56.61</td>\n",
              "      <td>75.80</td>\n",
              "      <td>7.58</td>\n",
              "      <td>97.37</td>\n",
              "      <td>64.23</td>\n",
              "      <td>-1.566021</td>\n",
              "      <td>...</td>\n",
              "      <td>True</td>\n",
              "      <td>False</td>\n",
              "      <td>False</td>\n",
              "      <td>False</td>\n",
              "      <td>False</td>\n",
              "      <td>False</td>\n",
              "      <td>True</td>\n",
              "      <td>False</td>\n",
              "      <td>False</td>\n",
              "      <td>True</td>\n",
              "    </tr>\n",
              "  </tbody>\n",
              "</table>\n",
              "<p>10 rows × 21 columns</p>\n",
              "</div>\n",
              "    <div class=\"colab-df-buttons\">\n",
              "\n",
              "  <div class=\"colab-df-container\">\n",
              "    <button class=\"colab-df-convert\" onclick=\"convertToInteractive('df-c65bab4e-49b7-4bb4-bb48-b088ab2366bc')\"\n",
              "            title=\"Convert this dataframe to an interactive table.\"\n",
              "            style=\"display:none;\">\n",
              "\n",
              "  <svg xmlns=\"http://www.w3.org/2000/svg\" height=\"24px\" viewBox=\"0 -960 960 960\">\n",
              "    <path d=\"M120-120v-720h720v720H120Zm60-500h600v-160H180v160Zm220 220h160v-160H400v160Zm0 220h160v-160H400v160ZM180-400h160v-160H180v160Zm440 0h160v-160H620v160ZM180-180h160v-160H180v160Zm440 0h160v-160H620v160Z\"/>\n",
              "  </svg>\n",
              "    </button>\n",
              "\n",
              "  <style>\n",
              "    .colab-df-container {\n",
              "      display:flex;\n",
              "      gap: 12px;\n",
              "    }\n",
              "\n",
              "    .colab-df-convert {\n",
              "      background-color: #E8F0FE;\n",
              "      border: none;\n",
              "      border-radius: 50%;\n",
              "      cursor: pointer;\n",
              "      display: none;\n",
              "      fill: #1967D2;\n",
              "      height: 32px;\n",
              "      padding: 0 0 0 0;\n",
              "      width: 32px;\n",
              "    }\n",
              "\n",
              "    .colab-df-convert:hover {\n",
              "      background-color: #E2EBFA;\n",
              "      box-shadow: 0px 1px 2px rgba(60, 64, 67, 0.3), 0px 1px 3px 1px rgba(60, 64, 67, 0.15);\n",
              "      fill: #174EA6;\n",
              "    }\n",
              "\n",
              "    .colab-df-buttons div {\n",
              "      margin-bottom: 4px;\n",
              "    }\n",
              "\n",
              "    [theme=dark] .colab-df-convert {\n",
              "      background-color: #3B4455;\n",
              "      fill: #D2E3FC;\n",
              "    }\n",
              "\n",
              "    [theme=dark] .colab-df-convert:hover {\n",
              "      background-color: #434B5C;\n",
              "      box-shadow: 0px 1px 3px 1px rgba(0, 0, 0, 0.15);\n",
              "      filter: drop-shadow(0px 1px 2px rgba(0, 0, 0, 0.3));\n",
              "      fill: #FFFFFF;\n",
              "    }\n",
              "  </style>\n",
              "\n",
              "    <script>\n",
              "      const buttonEl =\n",
              "        document.querySelector('#df-c65bab4e-49b7-4bb4-bb48-b088ab2366bc button.colab-df-convert');\n",
              "      buttonEl.style.display =\n",
              "        google.colab.kernel.accessAllowed ? 'block' : 'none';\n",
              "\n",
              "      async function convertToInteractive(key) {\n",
              "        const element = document.querySelector('#df-c65bab4e-49b7-4bb4-bb48-b088ab2366bc');\n",
              "        const dataTable =\n",
              "          await google.colab.kernel.invokeFunction('convertToInteractive',\n",
              "                                                    [key], {});\n",
              "        if (!dataTable) return;\n",
              "\n",
              "        const docLinkHtml = 'Like what you see? Visit the ' +\n",
              "          '<a target=\"_blank\" href=https://colab.research.google.com/notebooks/data_table.ipynb>data table notebook</a>'\n",
              "          + ' to learn more about interactive tables.';\n",
              "        element.innerHTML = '';\n",
              "        dataTable['output_type'] = 'display_data';\n",
              "        await google.colab.output.renderOutput(dataTable, element);\n",
              "        const docLink = document.createElement('div');\n",
              "        docLink.innerHTML = docLinkHtml;\n",
              "        element.appendChild(docLink);\n",
              "      }\n",
              "    </script>\n",
              "  </div>\n",
              "\n",
              "\n",
              "<div id=\"df-77d07b47-ac44-4dda-b749-1fb7d720da27\">\n",
              "  <button class=\"colab-df-quickchart\" onclick=\"quickchart('df-77d07b47-ac44-4dda-b749-1fb7d720da27')\"\n",
              "            title=\"Suggest charts\"\n",
              "            style=\"display:none;\">\n",
              "\n",
              "<svg xmlns=\"http://www.w3.org/2000/svg\" height=\"24px\"viewBox=\"0 0 24 24\"\n",
              "     width=\"24px\">\n",
              "    <g>\n",
              "        <path d=\"M19 3H5c-1.1 0-2 .9-2 2v14c0 1.1.9 2 2 2h14c1.1 0 2-.9 2-2V5c0-1.1-.9-2-2-2zM9 17H7v-7h2v7zm4 0h-2V7h2v10zm4 0h-2v-4h2v4z\"/>\n",
              "    </g>\n",
              "</svg>\n",
              "  </button>\n",
              "\n",
              "<style>\n",
              "  .colab-df-quickchart {\n",
              "      --bg-color: #E8F0FE;\n",
              "      --fill-color: #1967D2;\n",
              "      --hover-bg-color: #E2EBFA;\n",
              "      --hover-fill-color: #174EA6;\n",
              "      --disabled-fill-color: #AAA;\n",
              "      --disabled-bg-color: #DDD;\n",
              "  }\n",
              "\n",
              "  [theme=dark] .colab-df-quickchart {\n",
              "      --bg-color: #3B4455;\n",
              "      --fill-color: #D2E3FC;\n",
              "      --hover-bg-color: #434B5C;\n",
              "      --hover-fill-color: #FFFFFF;\n",
              "      --disabled-bg-color: #3B4455;\n",
              "      --disabled-fill-color: #666;\n",
              "  }\n",
              "\n",
              "  .colab-df-quickchart {\n",
              "    background-color: var(--bg-color);\n",
              "    border: none;\n",
              "    border-radius: 50%;\n",
              "    cursor: pointer;\n",
              "    display: none;\n",
              "    fill: var(--fill-color);\n",
              "    height: 32px;\n",
              "    padding: 0;\n",
              "    width: 32px;\n",
              "  }\n",
              "\n",
              "  .colab-df-quickchart:hover {\n",
              "    background-color: var(--hover-bg-color);\n",
              "    box-shadow: 0 1px 2px rgba(60, 64, 67, 0.3), 0 1px 3px 1px rgba(60, 64, 67, 0.15);\n",
              "    fill: var(--button-hover-fill-color);\n",
              "  }\n",
              "\n",
              "  .colab-df-quickchart-complete:disabled,\n",
              "  .colab-df-quickchart-complete:disabled:hover {\n",
              "    background-color: var(--disabled-bg-color);\n",
              "    fill: var(--disabled-fill-color);\n",
              "    box-shadow: none;\n",
              "  }\n",
              "\n",
              "  .colab-df-spinner {\n",
              "    border: 2px solid var(--fill-color);\n",
              "    border-color: transparent;\n",
              "    border-bottom-color: var(--fill-color);\n",
              "    animation:\n",
              "      spin 1s steps(1) infinite;\n",
              "  }\n",
              "\n",
              "  @keyframes spin {\n",
              "    0% {\n",
              "      border-color: transparent;\n",
              "      border-bottom-color: var(--fill-color);\n",
              "      border-left-color: var(--fill-color);\n",
              "    }\n",
              "    20% {\n",
              "      border-color: transparent;\n",
              "      border-left-color: var(--fill-color);\n",
              "      border-top-color: var(--fill-color);\n",
              "    }\n",
              "    30% {\n",
              "      border-color: transparent;\n",
              "      border-left-color: var(--fill-color);\n",
              "      border-top-color: var(--fill-color);\n",
              "      border-right-color: var(--fill-color);\n",
              "    }\n",
              "    40% {\n",
              "      border-color: transparent;\n",
              "      border-right-color: var(--fill-color);\n",
              "      border-top-color: var(--fill-color);\n",
              "    }\n",
              "    60% {\n",
              "      border-color: transparent;\n",
              "      border-right-color: var(--fill-color);\n",
              "    }\n",
              "    80% {\n",
              "      border-color: transparent;\n",
              "      border-right-color: var(--fill-color);\n",
              "      border-bottom-color: var(--fill-color);\n",
              "    }\n",
              "    90% {\n",
              "      border-color: transparent;\n",
              "      border-bottom-color: var(--fill-color);\n",
              "    }\n",
              "  }\n",
              "</style>\n",
              "\n",
              "  <script>\n",
              "    async function quickchart(key) {\n",
              "      const quickchartButtonEl =\n",
              "        document.querySelector('#' + key + ' button');\n",
              "      quickchartButtonEl.disabled = true;  // To prevent multiple clicks.\n",
              "      quickchartButtonEl.classList.add('colab-df-spinner');\n",
              "      try {\n",
              "        const charts = await google.colab.kernel.invokeFunction(\n",
              "            'suggestCharts', [key], {});\n",
              "      } catch (error) {\n",
              "        console.error('Error during call to suggestCharts:', error);\n",
              "      }\n",
              "      quickchartButtonEl.classList.remove('colab-df-spinner');\n",
              "      quickchartButtonEl.classList.add('colab-df-quickchart-complete');\n",
              "    }\n",
              "    (() => {\n",
              "      let quickchartButtonEl =\n",
              "        document.querySelector('#df-77d07b47-ac44-4dda-b749-1fb7d720da27 button');\n",
              "      quickchartButtonEl.style.display =\n",
              "        google.colab.kernel.accessAllowed ? 'block' : 'none';\n",
              "    })();\n",
              "  </script>\n",
              "</div>\n",
              "\n",
              "    </div>\n",
              "  </div>\n"
            ],
            "application/vnd.google.colaboratory.intrinsic+json": {
              "type": "dataframe",
              "variable_name": "X_train"
            }
          },
          "metadata": {},
          "execution_count": 38
        }
      ]
    },
    {
      "cell_type": "code",
      "source": [
        "from sklearn.neighbors import KNeighborsRegressor\n",
        "from sklearn.metrics import mean_squared_error\n",
        "\n",
        "k_values = range(1, 21)\n",
        "mse_values = []\n",
        "\n",
        "for k in k_values:\n",
        "    model = KNeighborsRegressor(n_neighbors=k)\n",
        "    model.fit(X_train, y_train)\n",
        "    y_pred = model.predict(X_test)\n",
        "    mse = mean_squared_error(y_test, y_pred)\n",
        "    mse_values.append(mse)\n"
      ],
      "metadata": {
        "id": "qbkv06j1PVt8"
      },
      "execution_count": 39,
      "outputs": []
    },
    {
      "cell_type": "code",
      "source": [
        "import matplotlib.pyplot as plt\n",
        "\n",
        "plt.plot(k_values, mse_values, marker=\"o\")\n",
        "plt.xlabel(\"k\")\n",
        "plt.ylabel(\"MSE\")\n",
        "plt.title(\"Error Cuadrático Medio (MSE) vs. k\")\n",
        "plt.show()"
      ],
      "metadata": {
        "colab": {
          "base_uri": "https://localhost:8080/",
          "height": 472
        },
        "id": "Id7lJ0v9TK_U",
        "outputId": "f3364ca8-6d9a-4108-840a-00d5a520b89a"
      },
      "execution_count": 40,
      "outputs": [
        {
          "output_type": "display_data",
          "data": {
            "text/plain": [
              "<Figure size 640x480 with 1 Axes>"
            ],
            "image/png": "[encoded data removed]"
          },
          "metadata": {}
        }
      ]
    },
    {
      "cell_type": "markdown",
      "source": [
        "Visualizo lo siguiente en los diferentes K:\n",
        "\n",
        "\n",
        "|    k    |  Valor del MSE  |\n",
        "|---------|-----------------|\n",
        "|   2.5   |        70       |\n",
        "|   5.0   |        64       |\n",
        "|   7.5   |        60       |\n",
        "|   10.0  |        56       |\n",
        "|   12.5  |        59       |\n",
        "|   15.0  |        59       |\n",
        "|   17.5  |        57       |\n",
        "      "
      ],
      "metadata": {
        "id": "OqvW8Fo9hBSv"
      }
    },
    {
      "cell_type": "markdown",
      "source": [
        "Visualicé que el punto de equilibrio sería en `k=10`, porque observé un equilibrio entre la respectiva presición y la generalización."
      ],
      "metadata": {
        "id": "QbLAjdGvzJ63"
      }
    },
    {
      "cell_type": "markdown",
      "source": [
        "# **Tercer Punto:** Añadir nuevas variables que puedan mejorar el rendimiento."
      ],
      "metadata": {
        "id": "viuFVlfTr_YH"
      }
    },
    {
      "cell_type": "markdown",
      "source": [
        "Algunas variables nuevas que pueden mejorar que hacen parte del dataset original y pueden ayudar a mejorar el rendimiento actual son:\n",
        "\n",
        "\n",
        "*   `Attendance (%)`: La justificación sería que posiblemente estudiantes con mayor asistencia podrían tener hábitos de estudio más consistentes.\n",
        "*   `Midterm_Score` y `Final_Score`: La justificación sería que las calificaciones altas podrían correlacionarse con más horas de estudio.\n",
        "*   `Sleep_Hours_per_Night`: La justificación sería que menos horas de sueño podrían indicar más horas de estudio (o viceversa).\n",
        "*   `Projects_Score` y `Quizzes_Avg`: La justificación sería que las actividades académicas específicas podrían requerir más tiempo de estudio.\n",
        "*   `Total_Score`: La justificación sería que la puntuación global académica como proxy de dedicación.\n",
        "\n"
      ],
      "metadata": {
        "id": "bfMvicud1aib"
      }
    },
    {
      "cell_type": "code",
      "source": [
        "import pandas as pd\n",
        "from sklearn.preprocessing import StandardScaler, OneHotEncoder\n",
        "from sklearn.compose import ColumnTransformer\n",
        "\n",
        "# Cargar datos\n",
        "df = pd.read_csv(\"/content/Students_Grading_Dataset_Biased.csv\")\n",
        "\n",
        "# Crear nuevas variables (ejemplo)\n",
        "df[\"Stress_Sleep_Interaction\"] = df[\"Stress_Level (1-10)\"] * df[\"Sleep_Hours_per_Night\"]\n",
        "df[\"Score_Improvement\"] = df[\"Final_Score\"] - df[\"Midterm_Score\"]"
      ],
      "metadata": {
        "id": "ejmFKeHfufcZ"
      },
      "execution_count": 42,
      "outputs": []
    },
    {
      "cell_type": "code",
      "source": [
        "# Definir columnas\n",
        "numerical_cols = [\"Stress_Level (1-10)\", \"Sleep_Hours_per_Night\", \"Attendance (%)\", \"Midterm_Score\", \"Final_Score\"]\n",
        "categorical_cols = [\"Grade\", \"Internet_Access_at_Home\", \"Family_Income_Level\"]\n",
        "\n",
        "# Pipeline de preprocesamiento\n",
        "preprocessor = ColumnTransformer(\n",
        "    transformers=[\n",
        "        (\"num\", StandardScaler(), numerical_cols),\n",
        "        (\"cat\", OneHotEncoder(), categorical_cols)\n",
        "    ])\n",
        "\n",
        "X = preprocessor.fit_transform(df)\n",
        "y = df[\"Study_Hours_per_Week\"]"
      ],
      "metadata": {
        "id": "cfbVyr5o3Eu0"
      },
      "execution_count": 51,
      "outputs": []
    },
    {
      "cell_type": "code",
      "source": [
        "from sklearn.model_selection import train_test_split\n",
        "from sklearn.neighbors import KNeighborsRegressor\n",
        "from sklearn.metrics import mean_squared_error\n",
        "from sklearn.impute import SimpleImputer\n",
        "\n",
        "# Instead of using fillna on the NumPy array, use SimpleImputer\n",
        "imputer = SimpleImputer(strategy='constant', fill_value=0)\n",
        "X = imputer.fit_transform(X)\n",
        "\n",
        "X_train, X_test, y_train, y_test = train_test_split(X, y, test_size=0.2, random_state=42)\n",
        "\n",
        "# Modelo con nuevas variables\n",
        "model = KNeighborsRegressor(n_neighbors=10)\n",
        "model.fit(X_train, y_train)\n",
        "y_pred = model.predict(X_test)\n",
        "print(\"MSE:\", mean_squared_error(y_test, y_pred))"
      ],
      "metadata": {
        "colab": {
          "base_uri": "https://localhost:8080/"
        },
        "id": "4A2wYQ9P3RFQ",
        "outputId": "696f78ff-0f47-42e2-f3cc-15e132e17e1e"
      },
      "execution_count": 53,
      "outputs": [
        {
          "output_type": "stream",
          "name": "stdout",
          "text": [
            "MSE: 60.740129800000005\n"
          ]
        }
      ]
    }
  ]
}